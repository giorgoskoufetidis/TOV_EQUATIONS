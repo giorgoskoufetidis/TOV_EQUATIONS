{
 "cells": [
  {
   "cell_type": "code",
   "execution_count": 5,
   "metadata": {},
   "outputs": [],
   "source": [
    "import random\n",
    "import numpy as np\n",
    "r_sat = 2.7*10**14 # Saturation density (g/cm^-3\n",
    "c = 3e8 # Speed of light in m/s\n",
    "Mev_toJ = 1.6e-13 # MeV to Joules conversion factor\n",
    "def convert_gcm3_to_mev_fm3(density_gcm3):\n",
    "    # Convert g/cm^3 to MeV/fm^3\n",
    "    density_mev_fm3 = density_gcm3 / (1.7827e12)  \n",
    "    return density_mev_fm3\n",
    "\n"
   ]
  },
  {
   "cell_type": "code",
   "execution_count": null,
   "metadata": {},
   "outputs": [],
   "source": [
    "def Pressure(p,K,gamma):\n",
    "    P = K * (p**gamma) # Pressure in MeV/fm^3\n",
    "    return P\n",
    "\n",
    "def Kappa(P,p,gamma):\n",
    "    K = P / (p**gamma) # Kappa in MeV/fm^3\n",
    "    return K\n",
    "\n",
    "def polytropic_eos(P, K_i, gamma_i,p_i,P_i,E_i):\n",
    "    # Calculate the pressure and energy density using the polytropic EOS\n",
    "    if gamma_i == 1:\n",
    "        return (E_i/ p_i) * (P / K_i) +  P * np.log(1 / p_i) - P * np.log(K_i / P)\n",
    "    return (E_i / p_i - P_i/(p_i * (gamma_i - 1))) * (P / K_i)**(1 / gamma_i) + P / (gamma_i - 1)\n",
    "\n",
    "\n"
   ]
  },
  {
   "cell_type": "code",
   "execution_count": null,
   "metadata": {},
   "outputs": [],
   "source": []
  }
 ],
 "metadata": {
  "kernelspec": {
   "display_name": "pytorch_env",
   "language": "python",
   "name": "python3"
  },
  "language_info": {
   "codemirror_mode": {
    "name": "ipython",
    "version": 3
   },
   "file_extension": ".py",
   "mimetype": "text/x-python",
   "name": "python",
   "nbconvert_exporter": "python",
   "pygments_lexer": "ipython3",
   "version": "3.12.5"
  }
 },
 "nbformat": 4,
 "nbformat_minor": 2
}
