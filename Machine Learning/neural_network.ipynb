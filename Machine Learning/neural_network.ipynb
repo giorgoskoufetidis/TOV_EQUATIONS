{
 "cells": [
  {
   "cell_type": "code",
   "execution_count": 8,
   "id": "f727f8e6",
   "metadata": {},
   "outputs": [],
   "source": [
    "import torch\n",
    "import torch.nn as nn \n",
    "import torch.optim as optim \n"
   ]
  },
  {
   "cell_type": "code",
   "execution_count": 9,
   "id": "79b33e64",
   "metadata": {},
   "outputs": [],
   "source": [
    "device = 'cuda' if torch.cuda.is_available() else 'cpu'"
   ]
  },
  {
   "cell_type": "code",
   "execution_count": 10,
   "id": "7b85e706",
   "metadata": {},
   "outputs": [],
   "source": [
    "import pandas as pd \n",
    "from sklearn.preprocessing import StandardScaler \n",
    "\n",
    "\n",
    "\n",
    "data = pd.read_csv(\"custom_sample_mass_radius_k2_15.csv\", \n",
    "                   header=None, \n",
    "                   names=[\"Mass\", \"Radius\",\"k2\", \"Type\"], \n",
    "                   low_memory=False)\n",
    "\n",
    "m_r_p = data.iloc[1:, :-1]\n",
    "star_type = data.iloc[1:, -1]\n",
    "\n",
    "scaler = StandardScaler()\n",
    "m_r_p = scaler.fit_transform(m_r_p)\n",
    "\n"
   ]
  },
  {
   "cell_type": "code",
   "execution_count": 59,
   "id": "276293eb",
   "metadata": {},
   "outputs": [
    {
     "name": "stdout",
     "output_type": "stream",
     "text": [
      "Epoch 10/50, Loss: 0.0000\n",
      "Epoch 20/50, Loss: 0.0000\n",
      "Epoch 30/50, Loss: 0.0000\n",
      "Epoch 40/50, Loss: 0.0000\n",
      "Epoch 50/50, Loss: 0.0000\n"
     ]
    }
   ],
   "source": [
    "import pandas as pd\n",
    "import numpy as np\n",
    "from sklearn.model_selection import train_test_split\n",
    "from sklearn.preprocessing import LabelEncoder, StandardScaler\n",
    "from sklearn.metrics import classification_report, confusion_matrix\n",
    "\n",
    "import torch\n",
    "import torch.nn as nn\n",
    "import torch.optim as optim\n",
    "from torch.utils.data import TensorDataset, DataLoader\n",
    "\n",
    "# 1. Load dataset\n",
    "df = pd.read_csv(\"custom_sample_mass_radius_k2_15.csv\", \n",
    "                 )\n",
    "\n",
    "# 2. Separate features and target\n",
    "X = df.drop(columns=[\"Type\"]).values.astype(np.float32)\n",
    "y = df[\"Type\"].values\n",
    "\n",
    "# 3. Encode labels\n",
    "encoder = LabelEncoder()\n",
    "y_encoded = encoder.fit_transform(y)\n",
    "\n",
    "# 4. Train/test split\n",
    "X_train, X_test, y_train, y_test = train_test_split(\n",
    "    X, y_encoded, test_size=0.4, random_state=42, stratify=y_encoded\n",
    ")\n",
    "\n",
    "# 5. Scale features\n",
    "scaler = StandardScaler()\n",
    "X_train = scaler.fit_transform(X_train)\n",
    "X_test = scaler.transform(X_test)\n",
    "\n",
    "# 6. Convert to tensors\n",
    "X_train_tensor = torch.tensor(X_train, dtype=torch.float32)\n",
    "y_train_tensor = torch.tensor(y_train, dtype=torch.long)\n",
    "X_test_tensor = torch.tensor(X_test, dtype=torch.float32)\n",
    "y_test_tensor = torch.tensor(y_test, dtype=torch.long)\n",
    "\n",
    "# 7. Dataloaders\n",
    "train_dataset = TensorDataset(X_train_tensor, y_train_tensor)\n",
    "test_dataset = TensorDataset(X_test_tensor, y_test_tensor)\n",
    "train_loader = DataLoader(train_dataset, batch_size=32, shuffle=True)\n",
    "test_loader = DataLoader(test_dataset, batch_size=32, shuffle=False)\n",
    "\n",
    "# 8. Define Neural Network\n",
    "class Net(nn.Module):\n",
    "    def __init__(self, input_dim, hidden1=14, hidden2=7, output_dim= len(np.unique(y))):\n",
    "        super(Net, self).__init__()\n",
    "        self.fc1 = nn.Linear(input_dim, hidden1)\n",
    "        self.fc2 = nn.Linear(hidden1, hidden2)\n",
    "        self.fc3 = nn.Linear(hidden2, output_dim)\n",
    "        self.relu = nn.ReLU()\n",
    "\n",
    "    def forward(self, x):\n",
    "        x = self.relu(self.fc1(x))\n",
    "        x = self.relu(self.fc2(x))\n",
    "        x = self.fc3(x)\n",
    "        return x\n",
    "\n",
    "input_dim = X_train.shape[1]\n",
    "output_dim = len(np.unique(y_train))\n",
    "model = Net(input_dim=input_dim, output_dim=output_dim)\n",
    "\n",
    "# 9. Loss & optimizer\n",
    "criterion = nn.CrossEntropyLoss()\n",
    "optimizer = optim.Adam(model.parameters(), lr=0.001)\n",
    "\n",
    "# 10. Training loop\n",
    "epochs = 50\n",
    "for epoch in range(epochs):\n",
    "    model.train()\n",
    "    running_loss = 0\n",
    "    for inputs, labels in train_loader:\n",
    "        optimizer.zero_grad()\n",
    "        outputs = model(inputs)\n",
    "        loss = criterion(outputs, labels)\n",
    "        loss.backward()\n",
    "        optimizer.step()\n",
    "        running_loss += loss.item()\n",
    "    if (epoch+1) % 10 == 0:\n",
    "        print(f\"Epoch {epoch+1}/{epochs}, Loss: {running_loss/len(train_loader):.4f}\")\n",
    "\n",
    "# 11. Evaluation\n",
    "model.eval()\n",
    "y_pred = []\n",
    "with torch.no_grad():\n",
    "    for inputs, _ in test_loader:\n",
    "        outputs = model(inputs)\n",
    "        _, predicted = torch.max(outputs, 1)\n",
    "        y_pred.extend(predicted.numpy())\n",
    "\n",
    "\n"
   ]
  },
  {
   "cell_type": "code",
   "execution_count": 17,
   "id": "03ee191c",
   "metadata": {},
   "outputs": [],
   "source": [
    "import torch \n",
    "import torch.nn as nn\n",
    "import torch.nn.functional as F\n",
    "\n",
    "\n",
    "class Model(nn.Module):\n",
    "    def __init__(self, in_features=3, h1=8, h2=9, out_features=1):\n",
    "        super().__init__()\n",
    "        self.fc1 = nn.Linear(in_features,h1)\n",
    "        self.fc2 = nn.Linear(h1,h2)\n",
    "        self.out = nn.Linear(h2, out_features)\n",
    "    \n",
    "    def forward(self, x):\n",
    "        x = F.relu(self.fc1(x))\n",
    "        x = F.relu(self.fc2(x))\n",
    "        x = self.out(x)\n",
    "        return x\n",
    "        "
   ]
  },
  {
   "cell_type": "code",
   "execution_count": 34,
   "id": "2a496fda",
   "metadata": {},
   "outputs": [],
   "source": [
    "torch.manual_seed(42)\n",
    "model = Model()\n",
    "# 6. Convert to tensors\n",
    "X_train_tensor = torch.tensor(X_train, dtype=torch.float32)\n",
    "y_train_tensor = torch.tensor(y_train, dtype=torch.long)\n",
    "X_test_tensor = torch.tensor(X_test, dtype=torch.float32)\n",
    "y_test_tensor = torch.tensor(y_test, dtype=torch.long)\n"
   ]
  },
  {
   "cell_type": "code",
   "execution_count": 42,
   "id": "527e685f",
   "metadata": {},
   "outputs": [
    {
     "name": "stdout",
     "output_type": "stream",
     "text": [
      "Epoch: 1 | Loss: 0.6356\n",
      "Epoch: 11 | Loss: 0.6235\n",
      "Epoch: 21 | Loss: 0.6100\n",
      "Epoch: 31 | Loss: 0.5948\n",
      "Epoch: 41 | Loss: 0.5777\n",
      "Epoch: 51 | Loss: 0.5584\n",
      "Epoch: 61 | Loss: 0.5374\n",
      "Epoch: 71 | Loss: 0.5150\n",
      "Epoch: 81 | Loss: 0.4916\n",
      "Epoch: 91 | Loss: 0.4673\n",
      "Epoch: 101 | Loss: 0.4423\n",
      "Epoch: 111 | Loss: 0.4165\n",
      "Epoch: 121 | Loss: 0.3906\n",
      "Epoch: 131 | Loss: 0.3647\n",
      "Epoch: 141 | Loss: 0.3397\n",
      "Epoch: 151 | Loss: 0.3156\n",
      "Epoch: 161 | Loss: 0.2928\n",
      "Epoch: 171 | Loss: 0.2713\n",
      "Epoch: 181 | Loss: 0.2512\n",
      "Epoch: 191 | Loss: 0.2325\n",
      "Epoch: 201 | Loss: 0.2152\n",
      "Epoch: 211 | Loss: 0.1993\n",
      "Epoch: 221 | Loss: 0.1848\n",
      "Epoch: 231 | Loss: 0.1715\n",
      "Epoch: 241 | Loss: 0.1595\n",
      "Epoch: 251 | Loss: 0.1485\n",
      "Epoch: 261 | Loss: 0.1386\n",
      "Epoch: 271 | Loss: 0.1295\n",
      "Epoch: 281 | Loss: 0.1213\n",
      "Epoch: 291 | Loss: 0.1138\n"
     ]
    }
   ],
   "source": [
    "criterion = nn.BCEWithLogitsLoss()\n",
    "optimizer = torch.optim.Adam(model.parameters(), lr=0.001)\n",
    "\n",
    "# Μετατροπή target\n",
    "y_train_tensor = y_train_tensor.view(-1, 1).float()\n",
    "\n",
    "epochs = 300\n",
    "\n",
    "losses = []\n",
    "\n",
    "for i in range(epochs):\n",
    "    y_pred = model(X_train_tensor)  # (N,1)\n",
    "    loss = criterion(y_pred, y_train_tensor)  # target (N,1), float\n",
    "    losses.append(loss.item())\n",
    "    if i % 10 == 0 :print(f\"Epoch: {i+1} | Loss: {loss.item():.4f}\")\n",
    "    optimizer.zero_grad()\n",
    "    loss.backward()\n",
    "    optimizer.step()\n"
   ]
  },
  {
   "cell_type": "code",
   "execution_count": 44,
   "id": "d4dd146b",
   "metadata": {},
   "outputs": [],
   "source": [
    "with torch.no_grad():\n",
    "    y_eval = model(X_test_tensor)\n",
    "    loss = criterion(y_eval, y_test_tensor.view(-1, 1).float())\n",
    "    \n",
    "    \n",
    "    "
   ]
  },
  {
   "cell_type": "code",
   "execution_count": 45,
   "id": "df4df740",
   "metadata": {},
   "outputs": [
    {
     "data": {
      "text/plain": [
       "tensor(0.1063)"
      ]
     },
     "execution_count": 45,
     "metadata": {},
     "output_type": "execute_result"
    }
   ],
   "source": [
    "loss"
   ]
  },
  {
   "cell_type": "code",
   "execution_count": 48,
   "id": "06db5540",
   "metadata": {},
   "outputs": [
    {
     "name": "stdout",
     "output_type": "stream",
     "text": [
      "Test accuracy: 12622\n"
     ]
    }
   ],
   "source": [
    "correct = 0 \n",
    "with torch.no_grad():\n",
    "    for i , data in enumerate(X_test_tensor):\n",
    "        y_val = model.forward(data)\n",
    "        if y_val.argmax().item() == y_test_tensor[i]:\n",
    "            correct += 1\n",
    "print(f\"Test accuracy: {correct}\")"
   ]
  },
  {
   "cell_type": "code",
   "execution_count": 49,
   "id": "d7a1fc1d",
   "metadata": {},
   "outputs": [
    {
     "name": "stdout",
     "output_type": "stream",
     "text": [
      "25608\n"
     ]
    }
   ],
   "source": [
    "print(len(y_test_tensor))"
   ]
  },
  {
   "cell_type": "code",
   "execution_count": null,
   "id": "1a544cdb",
   "metadata": {},
   "outputs": [],
   "source": []
  }
 ],
 "metadata": {
  "kernelspec": {
   "display_name": "pytorch_env",
   "language": "python",
   "name": "python3"
  },
  "language_info": {
   "codemirror_mode": {
    "name": "ipython",
    "version": 3
   },
   "file_extension": ".py",
   "mimetype": "text/x-python",
   "name": "python",
   "nbconvert_exporter": "python",
   "pygments_lexer": "ipython3",
   "version": "3.12.5"
  }
 },
 "nbformat": 4,
 "nbformat_minor": 5
}
