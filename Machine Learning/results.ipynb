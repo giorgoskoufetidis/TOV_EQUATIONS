{
 "cells": [
  {
   "cell_type": "markdown",
   "metadata": {},
   "source": [
    "# Classification Report \n",
    "\n",
    "## Classification models\n",
    "### 1. Random Forest \n",
    "#### Performance:\n",
    "- **Sample Size: 15**  \n",
    "  - **Accuracy:** `88%`  \n",
    "  - **Macro Avg F1-Score:** `86%`\n",
    "- **Sample Size: 30**  \n",
    "  - **Accuracy:** `92%`  \n",
    "  - **Macro Avg F1-Score:** `91%`\n",
    "- **Sample Size: 45**  \n",
    "  - **Accuracy:** `92%`  \n",
    "  - **Macro Avg F1-Score:** `91%`\n",
    "\n",
    "### 2. K-Nearest Neighbors (KNN)\n",
    "\n",
    "\n",
    "#### Performance:\n",
    "- **Sample Size: 15**  \n",
    "  - **Accuracy:** `67%`  \n",
    "  - **Macro Avg F1-Score:** `54%`\n",
    "- **Sample Size: 30**  \n",
    "  - **Accuracy:** `70%`  \n",
    "  - **Macro Avg F1-Score:** `63%`\n",
    "- **Sample Size: 45**  \n",
    "  - **Accuracy:** `71%`  \n",
    "  - **Macro Avg F1-Score:** `65%`\n",
    "\n",
    "### 3. Decision Tree\n",
    "\n",
    "#### Performance:\n",
    "- **Sample Size: 15**  \n",
    "  - **Accuracy:** `87%`  \n",
    "  - **Macro Avg F1-Score:** `84%`\n",
    "- **Sample Size: 30**  \n",
    "  - **Accuracy:** `90%`  \n",
    "  - **Macro Avg F1-Score:** `89%`\n",
    "- **Sample Size: 45**  \n",
    "  - **Accuracy:** `88%`  \n",
    "  - **Macro Avg F1-Score:** `86%`\n",
    "\n",
    "## Results\n",
    "- **Random Forest** performed the best in terms of overall accuracy and f1-score across all sample sizes.\n",
    "- **Decision Tree** also showed strong results, but with slightly lower accuracy compared to Random Forest.\n",
    "- **KNN** had the lowest accuracy and f1-scores, indicating it may not be the best choice for this dataset.\n",
    "\n",
    "## Conclusion\n",
    "Based on this analysis, **Random Forest** is the most effective classifier for this dataset, followed by Decision Tree. KNN performed the weakest, suggesting that it may not generalize well for this classification problem.\n",
    "\n"
   ]
  },
  {
   "cell_type": "markdown",
   "metadata": {},
   "source": []
  }
 ],
 "metadata": {
  "language_info": {
   "name": "python"
  }
 },
 "nbformat": 4,
 "nbformat_minor": 2
}
