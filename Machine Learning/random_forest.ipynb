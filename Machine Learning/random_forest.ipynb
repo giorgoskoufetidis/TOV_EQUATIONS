{
 "cells": [
  {
   "cell_type": "code",
   "execution_count": 2,
   "metadata": {},
   "outputs": [],
   "source": [
    "import pandas as pd \n",
    "\n",
    "df = pd.read_csv('sampled_data_45.csv', header=None)\n",
    "\n",
    "m_r_p = df.iloc[1:, :-1]\n",
    "star_type = df.iloc[1:, -1]\n",
    "\n",
    "\n"
   ]
  },
  {
   "cell_type": "code",
   "execution_count": 3,
   "metadata": {},
   "outputs": [
    {
     "data": {
      "application/vnd.microsoft.datawrangler.viewer.v0+json": {
       "columns": [
        {
         "name": "index",
         "rawType": "int64",
         "type": "integer"
        },
        {
         "name": "0",
         "rawType": "object",
         "type": "string"
        },
        {
         "name": "1",
         "rawType": "object",
         "type": "string"
        },
        {
         "name": "2",
         "rawType": "object",
         "type": "string"
        }
       ],
       "conversionMethod": "pd.DataFrame",
       "ref": "db883b73-3f22-4108-93da-9e97926c22ed",
       "rows": [
        [
         "1",
         "2.3869599793455145",
         "10.9217920267008",
         "804.0"
        ],
        [
         "2",
         "2.385946614773768",
         "10.669585890486523",
         "1046.0"
        ],
        [
         "3",
         "2.371257756271798",
         "11.13559432614719",
         "639.0"
        ],
        [
         "4",
         "2.3807494359605217",
         "11.034604420678232",
         "713.0"
        ],
        [
         "5",
         "2.3707669341324955",
         "11.139999999999263",
         "636.0"
        ],
        [
         "6",
         "2.3815626817377544",
         "10.586999999999572",
         "1139.0"
        ],
        [
         "7",
         "1.9737925162895456",
         "12.082999999998744",
         "174.0"
        ],
        [
         "8",
         "2.3884246735775823",
         "10.753569145752056",
         "959.0"
        ],
        [
         "9",
         "0.8022334996114003",
         "12.329999999998606",
         "21.0"
        ],
        [
         "10",
         "2.385854538304148",
         "10.948999999999373",
         "781.0"
        ],
        [
         "11",
         "2.2840761508481706",
         "11.550999999999036",
         "394.0"
        ],
        [
         "12",
         "2.388639632218694",
         "10.767603897530057",
         "945.0"
        ],
        [
         "13",
         "2.38772940129278",
         "10.721818727856563",
         "991.0"
        ],
        [
         "14",
         "2.383339164604664",
         "10.616590415480964",
         "1105.0"
        ],
        [
         "15",
         "2.3882079442557487",
         "10.87799999999941",
         "842.0"
        ],
        [
         "16",
         "2.311078776027231",
         "11.459545635055346",
         "441.0"
        ],
        [
         "17",
         "2.3769739958943665",
         "11.079935784436667",
         "679.0"
        ],
        [
         "18",
         "2.388183636237804",
         "10.87899999999941",
         "841.0"
        ],
        [
         "19",
         "2.36199922783357",
         "11.20783196044885",
         "590.0"
        ],
        [
         "20",
         "2.34730000321836",
         "11.297999999999178",
         "533.0"
        ],
        [
         "21",
         "1.7832968999389145",
         "12.230847023857626",
         "121.0"
        ],
        [
         "22",
         "2.388371295887579",
         "10.750531750872929",
         "962.0"
        ],
        [
         "23",
         "2.386369815048666",
         "10.936999999999378",
         "791.0"
        ],
        [
         "24",
         "2.380320168001856",
         "10.56890970464966",
         "1161.0"
        ],
        [
         "25",
         "2.337089241533257",
         "11.349999999999149",
         "502.0"
        ],
        [
         "26",
         "1.373273767435303",
         "12.35899999999859",
         "60.0"
        ],
        [
         "27",
         "2.3843862705922594",
         "10.978603594532968",
         "757.0"
        ],
        [
         "28",
         "2.3816721499002407",
         "10.58899999999957",
         "1137.0"
        ],
        [
         "29",
         "2.3872228941446365",
         "10.704586108004484",
         "1009.0"
        ],
        [
         "30",
         "2.3154893556200147",
         "11.442617800646222",
         "450.0"
        ],
        [
         "31",
         "2.133171996844059",
         "11.880999999998854",
         "249.0"
        ],
        [
         "32",
         "2.1485946606720603",
         "11.855999999998868",
         "259.0"
        ],
        [
         "33",
         "2.3866052954918087",
         "10.686578999858526",
         "1028.0"
        ],
        [
         "34",
         "2.3785262361439856",
         "11.061999999999308",
         "692.0"
        ],
        [
         "35",
         "1.6202850121987271",
         "12.30599999999862",
         "91.0"
        ],
        [
         "36",
         "2.33490186138099",
         "11.359999999999143",
         "496.0"
        ],
        [
         "37",
         "2.368886940513554",
         "11.155746775901235",
         "625.0"
        ],
        [
         "38",
         "1.912535957962617",
         "12.138999999998711",
         "154.0"
        ],
        [
         "39",
         "2.3519174434946173",
         "11.271974895698271",
         "549.0"
        ],
        [
         "40",
         "2.2453187815765294",
         "11.658598696204734",
         "343.0"
        ],
        [
         "41",
         "2.388555464236876",
         "10.85899999999942",
         "859.0"
        ],
        [
         "42",
         "2.386466380384228",
         "10.934821292857787",
         "793.0"
        ],
        [
         "43",
         "2.386098935594935",
         "10.67356835593175",
         "1042.0"
        ],
        [
         "44",
         "1.310948598454261",
         "12.362999999998587",
         "54.0"
        ],
        [
         "45",
         "2.160205429239529",
         "11.83599999999888",
         "267.0"
        ],
        [
         "46",
         "2.38494560064729",
         "11.63499999999899",
         "541.0"
        ],
        [
         "47",
         "0.203305706458171",
         "15.865999999996646",
         "2.3000000000000007"
        ],
        [
         "48",
         "2.268179838261042",
         "12.317822806489731",
         "268.0"
        ],
        [
         "49",
         "2.141227235468228",
         "12.585999999998464",
         "188.0"
        ],
        [
         "50",
         "2.3192119259936264",
         "10.757608221902291",
         "1190.0"
        ]
       ],
       "shape": {
        "columns": 3,
        "rows": 2925
       }
      },
      "text/html": [
       "<div>\n",
       "<style scoped>\n",
       "    .dataframe tbody tr th:only-of-type {\n",
       "        vertical-align: middle;\n",
       "    }\n",
       "\n",
       "    .dataframe tbody tr th {\n",
       "        vertical-align: top;\n",
       "    }\n",
       "\n",
       "    .dataframe thead th {\n",
       "        text-align: right;\n",
       "    }\n",
       "</style>\n",
       "<table border=\"1\" class=\"dataframe\">\n",
       "  <thead>\n",
       "    <tr style=\"text-align: right;\">\n",
       "      <th></th>\n",
       "      <th>0</th>\n",
       "      <th>1</th>\n",
       "      <th>2</th>\n",
       "    </tr>\n",
       "  </thead>\n",
       "  <tbody>\n",
       "    <tr>\n",
       "      <th>1</th>\n",
       "      <td>2.3869599793455145</td>\n",
       "      <td>10.9217920267008</td>\n",
       "      <td>804.0</td>\n",
       "    </tr>\n",
       "    <tr>\n",
       "      <th>2</th>\n",
       "      <td>2.385946614773768</td>\n",
       "      <td>10.669585890486523</td>\n",
       "      <td>1046.0</td>\n",
       "    </tr>\n",
       "    <tr>\n",
       "      <th>3</th>\n",
       "      <td>2.371257756271798</td>\n",
       "      <td>11.13559432614719</td>\n",
       "      <td>639.0</td>\n",
       "    </tr>\n",
       "    <tr>\n",
       "      <th>4</th>\n",
       "      <td>2.3807494359605217</td>\n",
       "      <td>11.034604420678232</td>\n",
       "      <td>713.0</td>\n",
       "    </tr>\n",
       "    <tr>\n",
       "      <th>5</th>\n",
       "      <td>2.3707669341324955</td>\n",
       "      <td>11.139999999999263</td>\n",
       "      <td>636.0</td>\n",
       "    </tr>\n",
       "    <tr>\n",
       "      <th>...</th>\n",
       "      <td>...</td>\n",
       "      <td>...</td>\n",
       "      <td>...</td>\n",
       "    </tr>\n",
       "    <tr>\n",
       "      <th>2921</th>\n",
       "      <td>2.061588381638193</td>\n",
       "      <td>10.663999999999527</td>\n",
       "      <td>420.0</td>\n",
       "    </tr>\n",
       "    <tr>\n",
       "      <th>2922</th>\n",
       "      <td>2.1961495333578744</td>\n",
       "      <td>9.853879573138803</td>\n",
       "      <td>1148.0</td>\n",
       "    </tr>\n",
       "    <tr>\n",
       "      <th>2923</th>\n",
       "      <td>2.025065118146586</td>\n",
       "      <td>10.75099999999948</td>\n",
       "      <td>370.0</td>\n",
       "    </tr>\n",
       "    <tr>\n",
       "      <th>2924</th>\n",
       "      <td>2.1440726821255</td>\n",
       "      <td>10.379999999999686</td>\n",
       "      <td>613.0</td>\n",
       "    </tr>\n",
       "    <tr>\n",
       "      <th>2925</th>\n",
       "      <td>1.7780364083180364</td>\n",
       "      <td>11.106999999999283</td>\n",
       "      <td>195.0</td>\n",
       "    </tr>\n",
       "  </tbody>\n",
       "</table>\n",
       "<p>2925 rows × 3 columns</p>\n",
       "</div>"
      ],
      "text/plain": [
       "                       0                   1       2\n",
       "1     2.3869599793455145    10.9217920267008   804.0\n",
       "2      2.385946614773768  10.669585890486523  1046.0\n",
       "3      2.371257756271798   11.13559432614719   639.0\n",
       "4     2.3807494359605217  11.034604420678232   713.0\n",
       "5     2.3707669341324955  11.139999999999263   636.0\n",
       "...                  ...                 ...     ...\n",
       "2921   2.061588381638193  10.663999999999527   420.0\n",
       "2922  2.1961495333578744   9.853879573138803  1148.0\n",
       "2923   2.025065118146586   10.75099999999948   370.0\n",
       "2924     2.1440726821255  10.379999999999686   613.0\n",
       "2925  1.7780364083180364  11.106999999999283   195.0\n",
       "\n",
       "[2925 rows x 3 columns]"
      ]
     },
     "execution_count": 3,
     "metadata": {},
     "output_type": "execute_result"
    }
   ],
   "source": [
    "m_r_p"
   ]
  },
  {
   "cell_type": "code",
   "execution_count": 4,
   "metadata": {},
   "outputs": [],
   "source": [
    "from sklearn.model_selection import train_test_split \n",
    "from sklearn.preprocessing import StandardScaler\n",
    "from sklearn.ensemble import RandomForestClassifier\n",
    "from sklearn.metrics import accuracy_score\n",
    "X_train, X_test, y_train, y_test = train_test_split(m_r_p, star_type, test_size=0.2, random_state=42)\n",
    "\n",
    "\n",
    "\n"
   ]
  },
  {
   "cell_type": "code",
   "execution_count": 5,
   "metadata": {},
   "outputs": [],
   "source": [
    "classifier = RandomForestClassifier(n_estimators=500, criterion=\"entropy\", max_depth=12, max_features=\"log2\",  random_state=0)\n",
    "classifier.fit(X_train, y_train)\n",
    "y_pred = classifier.predict(X_test)\n",
    "\n"
   ]
  },
  {
   "cell_type": "code",
   "execution_count": 6,
   "metadata": {},
   "outputs": [
    {
     "name": "stdout",
     "output_type": "stream",
     "text": [
      "accuracy score:91.79%\n"
     ]
    },
    {
     "data": {
      "image/png": "[encoded data removed]",
      "text/plain": [
       "<Figure size 640x480 with 2 Axes>"
      ]
     },
     "metadata": {},
     "output_type": "display_data"
    }
   ],
   "source": [
    "from sklearn.metrics import confusion_matrix\n",
    "import matplotlib.pyplot as plt\n",
    "from sklearn.metrics import ConfusionMatrixDisplay\n",
    "\n",
    "cm = confusion_matrix(y_test, y_pred)\n",
    "disp = ConfusionMatrixDisplay(confusion_matrix=cm, display_labels=classifier.classes_)\n",
    "disp.plot() \n",
    "\n",
    "\n",
    "print(f\"accuracy score:{accuracy_score(y_test, y_pred) * 100:.2f}%\")\n"
   ]
  },
  {
   "cell_type": "code",
   "execution_count": 7,
   "metadata": {},
   "outputs": [
    {
     "name": "stdout",
     "output_type": "stream",
     "text": [
      "              precision    recall  f1-score   support\n",
      "\n",
      "           0       0.86      0.89      0.88       190\n",
      "           1       0.95      0.93      0.94       395\n",
      "\n",
      "    accuracy                           0.92       585\n",
      "   macro avg       0.90      0.91      0.91       585\n",
      "weighted avg       0.92      0.92      0.92       585\n",
      "\n"
     ]
    }
   ],
   "source": [
    "from sklearn.metrics import classification_report\n",
    "print(classification_report(y_test, y_pred))"
   ]
  },
  {
   "cell_type": "code",
   "execution_count": 8,
   "metadata": {},
   "outputs": [
    {
     "data": {
      "image/png": "[encoded data removed]",
      "text/plain": [
       "<Figure size 600x600 with 1 Axes>"
      ]
     },
     "metadata": {},
     "output_type": "display_data"
    }
   ],
   "source": [
    "from sklearn.ensemble import RandomForestClassifier\n",
    "from sklearn.metrics import  roc_curve, auc\n",
    "import matplotlib.pyplot as plt\n",
    "\n",
    "\n",
    "# Train RandomForest model\n",
    "\n",
    "# Predict probabilities for ROC curve\n",
    "y_test_proba = classifier.predict_proba(X_test)\n",
    "# Compute ROC curve and AUC score for each class\n",
    "plt.figure(figsize=(6, 6))\n",
    "for i, class_label in enumerate(classifier.classes_):\n",
    "    fpr, tpr, _ = roc_curve(y_test, y_test_proba[:, i], pos_label=class_label)\n",
    "    roc_auc = auc(fpr, tpr)\n",
    "    plt.plot(fpr, tpr, lw=2, label=f'Class {class_label} (AUC = {roc_auc:.2f})')\n",
    "\n",
    "# Plot ROC Curve\n",
    "plt.plot([0, 1], [0, 1], color='grey', linestyle='--', lw=1) \n",
    "plt.xlim([0.0, 1.0])\n",
    "plt.ylim([0.0, 1.05])\n",
    "plt.xlabel('False Positive Rate')\n",
    "plt.ylabel('True Positive Rate')\n",
    "plt.title('Receiver Operating Characteristic (ROC) Curve')\n",
    "plt.legend(loc='lower right')\n",
    "plt.show()"
   ]
  },
  {
   "cell_type": "code",
   "execution_count": null,
   "metadata": {},
   "outputs": [],
   "source": []
  }
 ],
 "metadata": {
  "kernelspec": {
   "display_name": "pytorch_env",
   "language": "python",
   "name": "python3"
  },
  "language_info": {
   "codemirror_mode": {
    "name": "ipython",
    "version": 3
   },
   "file_extension": ".py",
   "mimetype": "text/x-python",
   "name": "python",
   "nbconvert_exporter": "python",
   "pygments_lexer": "ipython3",
   "version": "3.12.5"
  }
 },
 "nbformat": 4,
 "nbformat_minor": 2
}
