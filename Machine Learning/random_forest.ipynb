{
 "cells": [
  {
   "cell_type": "code",
   "execution_count": 1,
   "metadata": {},
   "outputs": [],
   "source": [
    "import pandas as pd \n",
    "\n",
    "df = pd.read_csv('sampled_data_15.csv', header=None)\n",
    "\n",
    "m_r_p = df.iloc[1:, :-1]\n",
    "star_type = df.iloc[1:, -1]\n",
    "\n",
    "\n"
   ]
  },
  {
   "cell_type": "code",
   "execution_count": 2,
   "metadata": {},
   "outputs": [
    {
     "data": {
      "application/vnd.microsoft.datawrangler.viewer.v0+json": {
       "columns": [
        {
         "name": "index",
         "rawType": "int64",
         "type": "integer"
        },
        {
         "name": "0",
         "rawType": "object",
         "type": "string"
        },
        {
         "name": "1",
         "rawType": "object",
         "type": "string"
        },
        {
         "name": "2",
         "rawType": "object",
         "type": "string"
        }
       ],
       "conversionMethod": "pd.DataFrame",
       "ref": "4d3466e9-0d6c-4d19-8e1c-818a2bde9065",
       "rows": [
        [
         "1",
         "2.377587605238192",
         "11.072999999999302",
         "684.0"
        ],
        [
         "2",
         "2.299320849873561",
         "11.501612267651568",
         "419.0"
        ],
        [
         "3",
         "2.386743402647703",
         "10.927807584920131",
         "799.0"
        ],
        [
         "4",
         "1.9383224891507815",
         "12.116845919274429",
         "162.0"
        ],
        [
         "5",
         "2.384976485557671",
         "10.967597958771009",
         "766.0"
        ],
        [
         "6",
         "2.387371482000477",
         "10.708999999999504",
         "1004.0"
        ],
        [
         "7",
         "2.381286416968837",
         "10.582999999999574",
         "1144.0"
        ],
        [
         "8",
         "2.387826962002935",
         "10.893920310162882",
         "828.0"
        ],
        [
         "9",
         "2.350518879249105",
         "11.279999999999188",
         "544.0"
        ],
        [
         "10",
         "2.38772940129278",
         "10.721818727856563",
         "991.0"
        ],
        [
         "11",
         "2.3476009046336084",
         "11.29599999999918",
         "534.0"
        ],
        [
         "12",
         "2.3809500844090934",
         "10.577999999999577",
         "1150.0"
        ],
        [
         "13",
         "2.255498692286202",
         "11.632689385854372",
         "355.0"
        ],
        [
         "14",
         "2.388001063214212",
         "10.886999999999404",
         "834.0"
        ],
        [
         "15",
         "2.381135189168408",
         "11.028999999999328",
         "717.0"
        ],
        [
         "16",
         "2.380839848251471",
         "11.296779595946262",
         "735.0"
        ],
        [
         "17",
         "2.3863855666051306",
         "11.443999999999097",
         "644.0"
        ],
        [
         "18",
         "2.363657892501419",
         "11.082554068918087",
         "889.0"
        ],
        [
         "19",
         "2.324477280689208",
         "10.78899999999946",
         "1156.0"
        ],
        [
         "20",
         "1.9752784115322168",
         "12.789850352200762",
         "132.0"
        ],
        [
         "21",
         "2.3344724181615244",
         "10.852999999999424",
         "1091.0"
        ],
        [
         "22",
         "2.360991973738997",
         "11.056999999999311",
         "909.0"
        ],
        [
         "23",
         "2.386103048462699",
         "11.429999999999104",
         "652.0"
        ],
        [
         "24",
         "2.3534805217863584",
         "10.992580523022776",
         "963.0"
        ],
        [
         "25",
         "2.386927888039668",
         "11.483999999999076",
         "621.0"
        ],
        [
         "26",
         "2.3458856783504283",
         "12.017573725105526",
         "373.0"
        ],
        [
         "27",
         "2.382960575201771",
         "11.680999999998964",
         "518.0"
        ],
        [
         "28",
         "2.386621818862064",
         "11.568589865098144",
         "575.0"
        ],
        [
         "29",
         "2.3528443761795117",
         "11.975999999998802",
         "389.0"
        ],
        [
         "30",
         "1.9338612985162225",
         "12.82599999999833",
         "122.0"
        ],
        [
         "31",
         "2.082121978495276",
         "9.95799999999992",
         "1094.0"
        ],
        [
         "32",
         "2.087761484700558",
         "10.48560241379183",
         "675.0"
        ],
        [
         "33",
         "2.079405031545252",
         "9.909999999999949",
         "1143.0"
        ],
        [
         "34",
         "0.1940960685411644",
         "16.271999999996904",
         "2.2000000000000006"
        ],
        [
         "35",
         "1.921729470779141",
         "11.494599533420711",
         "246.0"
        ],
        [
         "36",
         "1.991630045454591",
         "11.248999999999205",
         "322.0"
        ],
        [
         "37",
         "2.0912097628691884",
         "10.304575937850467",
         "797.0"
        ],
        [
         "38",
         "1.2821711832767344",
         "12.352999999998593",
         "56.0"
        ],
        [
         "39",
         "2.0901453701830146",
         "10.177590411976668",
         "895.0"
        ],
        [
         "40",
         "2.075002426487295",
         "10.703999999999509",
         "551.0"
        ],
        [
         "41",
         "2.081093565441805",
         "9.93899999999993",
         "1113.0"
        ],
        [
         "42",
         "2.0679458668290778",
         "10.781745275266854",
         "512.0"
        ],
        [
         "43",
         "1.9996820256003305",
         "11.213999999999224",
         "334.0"
        ],
        [
         "44",
         "2.055809483121329",
         "10.888999999999404",
         "462.0"
        ],
        [
         "45",
         "2.076376234482426",
         "9.862817371708635",
         "1194.0"
        ],
        [
         "46",
         "1.9681104512246208",
         "9.74200000000004",
         "1034.0"
        ],
        [
         "47",
         "1.2267787855346282",
         "12.261999999998643",
         "54.0"
        ],
        [
         "48",
         "0.3117994102641118",
         "13.7849999999978",
         "4.400000000000002"
        ],
        [
         "49",
         "1.9457348857342724",
         "10.658999999999532",
         "454.0"
        ],
        [
         "50",
         "1.9714552678695247",
         "10.3005999871865",
         "629.0"
        ]
       ],
       "shape": {
        "columns": 3,
        "rows": 975
       }
      },
      "text/html": [
       "<div>\n",
       "<style scoped>\n",
       "    .dataframe tbody tr th:only-of-type {\n",
       "        vertical-align: middle;\n",
       "    }\n",
       "\n",
       "    .dataframe tbody tr th {\n",
       "        vertical-align: top;\n",
       "    }\n",
       "\n",
       "    .dataframe thead th {\n",
       "        text-align: right;\n",
       "    }\n",
       "</style>\n",
       "<table border=\"1\" class=\"dataframe\">\n",
       "  <thead>\n",
       "    <tr style=\"text-align: right;\">\n",
       "      <th></th>\n",
       "      <th>0</th>\n",
       "      <th>1</th>\n",
       "      <th>2</th>\n",
       "    </tr>\n",
       "  </thead>\n",
       "  <tbody>\n",
       "    <tr>\n",
       "      <th>1</th>\n",
       "      <td>2.377587605238192</td>\n",
       "      <td>11.072999999999302</td>\n",
       "      <td>684.0</td>\n",
       "    </tr>\n",
       "    <tr>\n",
       "      <th>2</th>\n",
       "      <td>2.299320849873561</td>\n",
       "      <td>11.501612267651568</td>\n",
       "      <td>419.0</td>\n",
       "    </tr>\n",
       "    <tr>\n",
       "      <th>3</th>\n",
       "      <td>2.386743402647703</td>\n",
       "      <td>10.927807584920131</td>\n",
       "      <td>799.0</td>\n",
       "    </tr>\n",
       "    <tr>\n",
       "      <th>4</th>\n",
       "      <td>1.9383224891507815</td>\n",
       "      <td>12.116845919274429</td>\n",
       "      <td>162.0</td>\n",
       "    </tr>\n",
       "    <tr>\n",
       "      <th>5</th>\n",
       "      <td>2.384976485557671</td>\n",
       "      <td>10.967597958771009</td>\n",
       "      <td>766.0</td>\n",
       "    </tr>\n",
       "    <tr>\n",
       "      <th>...</th>\n",
       "      <td>...</td>\n",
       "      <td>...</td>\n",
       "      <td>...</td>\n",
       "    </tr>\n",
       "    <tr>\n",
       "      <th>971</th>\n",
       "      <td>1.9863205811587592</td>\n",
       "      <td>10.828999999999438</td>\n",
       "      <td>328.0</td>\n",
       "    </tr>\n",
       "    <tr>\n",
       "      <th>972</th>\n",
       "      <td>2.070918786528417</td>\n",
       "      <td>10.639568516507545</td>\n",
       "      <td>435.0</td>\n",
       "    </tr>\n",
       "    <tr>\n",
       "      <th>973</th>\n",
       "      <td>1.974655577245361</td>\n",
       "      <td>10.849999999999426</td>\n",
       "      <td>317.0</td>\n",
       "    </tr>\n",
       "    <tr>\n",
       "      <th>974</th>\n",
       "      <td>2.187767146802478</td>\n",
       "      <td>10.063999999999862</td>\n",
       "      <td>899.0</td>\n",
       "    </tr>\n",
       "    <tr>\n",
       "      <th>975</th>\n",
       "      <td>2.1054567540506213</td>\n",
       "      <td>10.534690970085194</td>\n",
       "      <td>502.0</td>\n",
       "    </tr>\n",
       "  </tbody>\n",
       "</table>\n",
       "<p>975 rows × 3 columns</p>\n",
       "</div>"
      ],
      "text/plain": [
       "                      0                   1      2\n",
       "1     2.377587605238192  11.072999999999302  684.0\n",
       "2     2.299320849873561  11.501612267651568  419.0\n",
       "3     2.386743402647703  10.927807584920131  799.0\n",
       "4    1.9383224891507815  12.116845919274429  162.0\n",
       "5     2.384976485557671  10.967597958771009  766.0\n",
       "..                  ...                 ...    ...\n",
       "971  1.9863205811587592  10.828999999999438  328.0\n",
       "972   2.070918786528417  10.639568516507545  435.0\n",
       "973   1.974655577245361  10.849999999999426  317.0\n",
       "974   2.187767146802478  10.063999999999862  899.0\n",
       "975  2.1054567540506213  10.534690970085194  502.0\n",
       "\n",
       "[975 rows x 3 columns]"
      ]
     },
     "execution_count": 2,
     "metadata": {},
     "output_type": "execute_result"
    }
   ],
   "source": [
    "m_r_p"
   ]
  },
  {
   "cell_type": "code",
   "execution_count": 3,
   "metadata": {},
   "outputs": [],
   "source": [
    "from sklearn.model_selection import train_test_split \n",
    "from sklearn.preprocessing import StandardScaler\n",
    "from sklearn.ensemble import RandomForestClassifier\n",
    "from sklearn.metrics import accuracy_score\n",
    "X_train, X_test, y_train, y_test = train_test_split(m_r_p, star_type, test_size=0.2, random_state=42)\n",
    "\n",
    "\n",
    "\n"
   ]
  },
  {
   "cell_type": "code",
   "execution_count": 4,
   "metadata": {},
   "outputs": [],
   "source": [
    "classifier = RandomForestClassifier(n_estimators=500, criterion=\"entropy\", max_depth=12, max_features=\"log2\",  random_state=0)\n",
    "classifier.fit(X_train, y_train)\n",
    "y_pred = classifier.predict(X_test)\n",
    "\n"
   ]
  },
  {
   "cell_type": "code",
   "execution_count": 5,
   "metadata": {},
   "outputs": [
    {
     "name": "stdout",
     "output_type": "stream",
     "text": [
      "accuracy score:88.21%\n"
     ]
    },
    {
     "data": {
      "image/png": "[encoded data removed]",
      "text/plain": [
       "<Figure size 640x480 with 2 Axes>"
      ]
     },
     "metadata": {},
     "output_type": "display_data"
    }
   ],
   "source": [
    "from sklearn.metrics import confusion_matrix\n",
    "import matplotlib.pyplot as plt\n",
    "from sklearn.metrics import ConfusionMatrixDisplay\n",
    "\n",
    "cm = confusion_matrix(y_test, y_pred)\n",
    "disp = ConfusionMatrixDisplay(confusion_matrix=cm, display_labels=classifier.classes_)\n",
    "disp.plot() \n",
    "\n",
    "\n",
    "print(f\"accuracy score:{accuracy_score(y_test, y_pred) * 100:.2f}%\")\n"
   ]
  },
  {
   "cell_type": "code",
   "execution_count": 6,
   "metadata": {},
   "outputs": [
    {
     "name": "stdout",
     "output_type": "stream",
     "text": [
      "              precision    recall  f1-score   support\n",
      "\n",
      "           0       0.76      0.83      0.80        54\n",
      "           1       0.93      0.90      0.92       141\n",
      "\n",
      "    accuracy                           0.88       195\n",
      "   macro avg       0.85      0.87      0.86       195\n",
      "weighted avg       0.89      0.88      0.88       195\n",
      "\n"
     ]
    }
   ],
   "source": [
    "from sklearn.metrics import classification_report\n",
    "print(classification_report(y_test, y_pred))"
   ]
  },
  {
   "cell_type": "code",
   "execution_count": 7,
   "metadata": {},
   "outputs": [
    {
     "data": {
      "image/png": "[encoded data removed]",
      "text/plain": [
       "<Figure size 600x600 with 1 Axes>"
      ]
     },
     "metadata": {},
     "output_type": "display_data"
    }
   ],
   "source": [
    "from sklearn.ensemble import RandomForestClassifier\n",
    "from sklearn.metrics import  roc_curve, auc\n",
    "import matplotlib.pyplot as plt\n",
    "\n",
    "\n",
    "# Train RandomForest model\n",
    "\n",
    "# Predict probabilities for ROC curve\n",
    "y_test_proba = classifier.predict_proba(X_test)\n",
    "# Compute ROC curve and AUC score for each class\n",
    "plt.figure(figsize=(6, 6))\n",
    "for i, class_label in enumerate(classifier.classes_):\n",
    "    fpr, tpr, _ = roc_curve(y_test, y_test_proba[:, i], pos_label=class_label)\n",
    "    roc_auc = auc(fpr, tpr)\n",
    "    plt.plot(fpr, tpr, lw=2, label=f'Class {class_label} (AUC = {roc_auc:.2f})')\n",
    "\n",
    "# Plot ROC Curve\n",
    "plt.plot([0, 1], [0, 1], color='grey', linestyle='--', lw=1) \n",
    "plt.xlim([0.0, 1.0])\n",
    "plt.ylim([0.0, 1.05])\n",
    "plt.xlabel('False Positive Rate')\n",
    "plt.ylabel('True Positive Rate')\n",
    "plt.title('Receiver Operating Characteristic (ROC) Curve')\n",
    "plt.legend(loc='lower right')\n",
    "plt.show()"
   ]
  },
  {
   "cell_type": "code",
   "execution_count": null,
   "metadata": {},
   "outputs": [],
   "source": []
  }
 ],
 "metadata": {
  "kernelspec": {
   "display_name": "pytorch_env",
   "language": "python",
   "name": "python3"
  },
  "language_info": {
   "codemirror_mode": {
    "name": "ipython",
    "version": 3
   },
   "file_extension": ".py",
   "mimetype": "text/x-python",
   "name": "python",
   "nbconvert_exporter": "python",
   "pygments_lexer": "ipython3",
   "version": "3.12.5"
  }
 },
 "nbformat": 4,
 "nbformat_minor": 2
}
