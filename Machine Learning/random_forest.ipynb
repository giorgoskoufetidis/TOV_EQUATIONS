{
 "cells": [
  {
   "cell_type": "code",
   "execution_count": 33,
   "metadata": {},
   "outputs": [],
   "source": [
    "import pandas as pd \n",
    "\n",
    "\n",
    "\n",
    "data = pd.read_csv(\"custom_sample_mass_radius_y_ext_15.csv\", \n",
    "                   header=None, \n",
    "                   names=[\"Mass\", \"Radius\",\"yR_value\", \"Type\"], \n",
    "                   low_memory=False)\n",
    "\n",
    "m_r_p = data.iloc[1:, :-1]\n",
    "star_type = data.iloc[1:, -1]\n",
    "\n",
    "\n"
   ]
  },
  {
   "cell_type": "code",
   "execution_count": 34,
   "metadata": {},
   "outputs": [
    {
     "data": {
      "application/vnd.microsoft.datawrangler.viewer.v0+json": {
       "columns": [
        {
         "name": "index",
         "rawType": "int64",
         "type": "integer"
        },
        {
         "name": "Mass",
         "rawType": "object",
         "type": "string"
        },
        {
         "name": "Radius",
         "rawType": "object",
         "type": "string"
        },
        {
         "name": "yR_value",
         "rawType": "object",
         "type": "string"
        }
       ],
       "ref": "7411cedd-10dd-4a53-a2c6-ca7de67b0a01",
       "rows": [
        [
         "1",
         "0.0239549305720704",
         "2.98999999999998",
         "-1.015751400051896"
        ],
        [
         "2",
         "0.1651435185533361",
         "5.649999999999924",
         "-0.9998872911101022"
        ],
        [
         "3",
         "0.3093906578999103",
         "6.929999999999897",
         "-0.993080419607925"
        ],
        [
         "4",
         "0.450307830118857",
         "7.799999999999878",
         "-0.9674775851416816"
        ],
        [
         "5",
         "0.5819158864533561",
         "8.449999999999864",
         "-0.9512017823190964"
        ],
        [
         "6",
         "0.7308967356752275",
         "9.059999999999851",
         "-0.9313887580029612"
        ],
        [
         "7",
         "0.8628176439862358",
         "9.51999999999984",
         "-0.912107932132758"
        ],
        [
         "8",
         "1.000687581071685",
         "9.929999999999833",
         "-0.8826342455047262"
        ],
        [
         "9",
         "1.1373038487011016",
         "10.279999999999824",
         "-0.8473833676601643"
        ],
        [
         "10",
         "1.281696061555334",
         "10.599999999999818",
         "-0.8051136404260599"
        ],
        [
         "11",
         "1.4211986548898592",
         "10.859999999999811",
         "-0.7543797822600438"
        ],
        [
         "12",
         "1.563889092889238",
         "11.069999999999808",
         "-0.6850659758256732"
        ],
        [
         "13",
         "1.7019485795292673",
         "11.219999999999803",
         "-0.5982371609312462"
        ],
        [
         "14",
         "1.844364335824813",
         "9.689999999999838",
         "0.7293447254706493"
        ],
        [
         "15",
         "1.984481672588808",
         "10.799999999999814",
         "0.0534676112199856"
        ],
        [
         "16",
         "1.8846099256548476",
         "9.899999999999832",
         "0.6184596650782221"
        ],
        [
         "17",
         "0.030214433831836",
         "3.3599999999999723",
         "-1.0198541273967596"
        ],
        [
         "18",
         "0.2048332587938416",
         "6.30999999999991",
         "-1.0002598332573231"
        ],
        [
         "19",
         "0.3361679439680798",
         "7.4099999999998865",
         "-0.990673580939909"
        ],
        [
         "20",
         "0.5068636522707421",
         "8.449999999999864",
         "-0.9778405928301196"
        ],
        [
         "21",
         "0.6269206898524167",
         "9.029999999999852",
         "-0.9632825093343952"
        ],
        [
         "22",
         "0.8087470560814763",
         "9.759999999999836",
         "-0.9380243881840103"
        ],
        [
         "23",
         "0.9679454157267516",
         "10.299999999999825",
         "-0.9178837100010226"
        ],
        [
         "24",
         "1.1066061464508326",
         "10.699999999999816",
         "-0.8904618218285059"
        ],
        [
         "25",
         "1.271195286526151",
         "11.109999999999808",
         "-0.8516109756353234"
        ],
        [
         "26",
         "1.4073749330691712",
         "11.4099999999998",
         "-0.8186182753050864"
        ],
        [
         "27",
         "1.563501005465063",
         "11.699999999999797",
         "-0.768410980182948"
        ],
        [
         "28",
         "1.726434901911293",
         "11.93999999999979",
         "-0.6979198481485633"
        ],
        [
         "29",
         "1.8764958034394508",
         "9.849999999999834",
         "0.9937829836564986"
        ],
        [
         "30",
         "2.0304385334156727",
         "10.49999999999982",
         "0.7134948137139487"
        ],
        [
         "31",
         "2.1842057278542413",
         "11.679999999999795",
         "0.0341847531221592"
        ],
        [
         "32",
         "2.0842443531880512",
         "10.769999999999817",
         "0.5775569039209976"
        ],
        [
         "33",
         "0.0571088706918988",
         "4.619999999999946",
         "-1.0155912843042565"
        ],
        [
         "34",
         "0.2821856752728602",
         "7.839999999999877",
         "-1.0160734918445826"
        ],
        [
         "35",
         "0.5269409570006129",
         "9.60999999999984",
         "-1.0046246166684965"
        ],
        [
         "36",
         "0.7503663320038966",
         "10.769999999999817",
         "-0.9956885209979224"
        ],
        [
         "37",
         "0.9591766181124636",
         "11.639999999999796",
         "-0.9822482935389576"
        ],
        [
         "38",
         "1.1508453817472204",
         "12.319999999999782",
         "-0.9687718757407148"
        ],
        [
         "39",
         "1.3797207780424667",
         "13.029999999999768",
         "-0.9552155485436724"
        ],
        [
         "40",
         "1.6264427334969012",
         "13.679999999999753",
         "-0.929311405402094"
        ],
        [
         "41",
         "1.8353570252814728",
         "14.159999999999744",
         "-0.9027936553608986"
        ],
        [
         "42",
         "2.044810305719566",
         "14.589999999999732",
         "-0.8736585291536627"
        ],
        [
         "43",
         "2.268670902803068",
         "14.989999999999725",
         "-0.8332831666820908"
        ],
        [
         "44",
         "2.4999657458202846",
         "15.319999999999718",
         "-0.7680555470767569"
        ],
        [
         "45",
         "2.71325675414",
         "12.999999999999767",
         "0.9570528252558932"
        ],
        [
         "46",
         "2.9345235333719435",
         "13.78999999999975",
         "0.6798437739514829"
        ],
        [
         "47",
         "3.1560629459159766",
         "15.19999999999972",
         "-0.0352788848191372"
        ],
        [
         "48",
         "3.056714338728292",
         "14.34999999999974",
         "0.4325755470537455"
        ],
        [
         "49",
         "0.0166259633200661",
         "2.489999999999991",
         "-1.0232659277674063"
        ],
        [
         "50",
         "0.1786900476121485",
         "5.469999999999928",
         "-1.0161982041178828"
        ]
       ],
       "shape": {
        "columns": 3,
        "rows": 64018
       }
      },
      "text/html": [
       "<div>\n",
       "<style scoped>\n",
       "    .dataframe tbody tr th:only-of-type {\n",
       "        vertical-align: middle;\n",
       "    }\n",
       "\n",
       "    .dataframe tbody tr th {\n",
       "        vertical-align: top;\n",
       "    }\n",
       "\n",
       "    .dataframe thead th {\n",
       "        text-align: right;\n",
       "    }\n",
       "</style>\n",
       "<table border=\"1\" class=\"dataframe\">\n",
       "  <thead>\n",
       "    <tr style=\"text-align: right;\">\n",
       "      <th></th>\n",
       "      <th>Mass</th>\n",
       "      <th>Radius</th>\n",
       "      <th>yR_value</th>\n",
       "    </tr>\n",
       "  </thead>\n",
       "  <tbody>\n",
       "    <tr>\n",
       "      <th>1</th>\n",
       "      <td>0.0239549305720704</td>\n",
       "      <td>2.98999999999998</td>\n",
       "      <td>-1.015751400051896</td>\n",
       "    </tr>\n",
       "    <tr>\n",
       "      <th>2</th>\n",
       "      <td>0.1651435185533361</td>\n",
       "      <td>5.649999999999924</td>\n",
       "      <td>-0.9998872911101022</td>\n",
       "    </tr>\n",
       "    <tr>\n",
       "      <th>3</th>\n",
       "      <td>0.3093906578999103</td>\n",
       "      <td>6.929999999999897</td>\n",
       "      <td>-0.993080419607925</td>\n",
       "    </tr>\n",
       "    <tr>\n",
       "      <th>4</th>\n",
       "      <td>0.450307830118857</td>\n",
       "      <td>7.799999999999878</td>\n",
       "      <td>-0.9674775851416816</td>\n",
       "    </tr>\n",
       "    <tr>\n",
       "      <th>5</th>\n",
       "      <td>0.5819158864533561</td>\n",
       "      <td>8.449999999999864</td>\n",
       "      <td>-0.9512017823190964</td>\n",
       "    </tr>\n",
       "    <tr>\n",
       "      <th>...</th>\n",
       "      <td>...</td>\n",
       "      <td>...</td>\n",
       "      <td>...</td>\n",
       "    </tr>\n",
       "    <tr>\n",
       "      <th>64014</th>\n",
       "      <td>0.3281513692602911</td>\n",
       "      <td>9.704637268990968</td>\n",
       "      <td>1.684180273941923</td>\n",
       "    </tr>\n",
       "    <tr>\n",
       "      <th>64015</th>\n",
       "      <td>0.3454735671110727</td>\n",
       "      <td>9.389547248496797</td>\n",
       "      <td>1.662188026427686</td>\n",
       "    </tr>\n",
       "    <tr>\n",
       "      <th>64016</th>\n",
       "      <td>0.3605967455937601</td>\n",
       "      <td>9.119104976695176</td>\n",
       "      <td>1.6454496132519127</td>\n",
       "    </tr>\n",
       "    <tr>\n",
       "      <th>64017</th>\n",
       "      <td>0.3753546562432278</td>\n",
       "      <td>8.579051299704627</td>\n",
       "      <td>1.6470826056416743</td>\n",
       "    </tr>\n",
       "    <tr>\n",
       "      <th>64018</th>\n",
       "      <td>0.3699613008215324</td>\n",
       "      <td>8.257936099000652</td>\n",
       "      <td>1.676718271119171</td>\n",
       "    </tr>\n",
       "  </tbody>\n",
       "</table>\n",
       "<p>64018 rows × 3 columns</p>\n",
       "</div>"
      ],
      "text/plain": [
       "                     Mass             Radius             yR_value\n",
       "1      0.0239549305720704   2.98999999999998   -1.015751400051896\n",
       "2      0.1651435185533361  5.649999999999924  -0.9998872911101022\n",
       "3      0.3093906578999103  6.929999999999897   -0.993080419607925\n",
       "4       0.450307830118857  7.799999999999878  -0.9674775851416816\n",
       "5      0.5819158864533561  8.449999999999864  -0.9512017823190964\n",
       "...                   ...                ...                  ...\n",
       "64014  0.3281513692602911  9.704637268990968    1.684180273941923\n",
       "64015  0.3454735671110727  9.389547248496797    1.662188026427686\n",
       "64016  0.3605967455937601  9.119104976695176   1.6454496132519127\n",
       "64017  0.3753546562432278  8.579051299704627   1.6470826056416743\n",
       "64018  0.3699613008215324  8.257936099000652    1.676718271119171\n",
       "\n",
       "[64018 rows x 3 columns]"
      ]
     },
     "execution_count": 34,
     "metadata": {},
     "output_type": "execute_result"
    }
   ],
   "source": [
    "m_r_p"
   ]
  },
  {
   "cell_type": "code",
   "execution_count": 35,
   "metadata": {},
   "outputs": [],
   "source": [
    "from sklearn.model_selection import train_test_split \n",
    "from sklearn.preprocessing import StandardScaler\n",
    "from sklearn.ensemble import RandomForestClassifier\n",
    "from sklearn.metrics import accuracy_score\n",
    "X_train, X_test, y_train, y_test = train_test_split(m_r_p, star_type, test_size=0.2, random_state=42)\n",
    "\n",
    "\n",
    "\n"
   ]
  },
  {
   "cell_type": "code",
   "execution_count": 36,
   "metadata": {},
   "outputs": [],
   "source": [
    "classifier = RandomForestClassifier(n_estimators=500, criterion=\"entropy\", max_depth=12, max_features=\"log2\",  random_state=0)\n",
    "classifier.fit(X_train, y_train)\n",
    "y_pred = classifier.predict(X_test)\n",
    "\n"
   ]
  },
  {
   "cell_type": "code",
   "execution_count": 37,
   "metadata": {},
   "outputs": [
    {
     "name": "stdout",
     "output_type": "stream",
     "text": [
      "accuracy score:99.99%\n"
     ]
    },
    {
     "data": {
      "image/png": "[encoded data removed]",
      "text/plain": [
       "<Figure size 640x480 with 2 Axes>"
      ]
     },
     "metadata": {},
     "output_type": "display_data"
    }
   ],
   "source": [
    "from sklearn.metrics import confusion_matrix\n",
    "import matplotlib.pyplot as plt\n",
    "from sklearn.metrics import ConfusionMatrixDisplay\n",
    "\n",
    "cm = confusion_matrix(y_test, y_pred)\n",
    "disp = ConfusionMatrixDisplay(confusion_matrix=cm, display_labels=classifier.classes_)\n",
    "disp.plot() \n",
    "\n",
    "\n",
    "print(f\"accuracy score:{accuracy_score(y_test, y_pred) * 100:.2f}%\")\n"
   ]
  },
  {
   "cell_type": "code",
   "execution_count": 21,
   "metadata": {},
   "outputs": [
    {
     "name": "stdout",
     "output_type": "stream",
     "text": [
      "              precision    recall  f1-score   support\n",
      "\n",
      "           0       1.00      1.00      1.00      6309\n",
      "           1       1.00      1.00      1.00      6495\n",
      "\n",
      "    accuracy                           1.00     12804\n",
      "   macro avg       1.00      1.00      1.00     12804\n",
      "weighted avg       1.00      1.00      1.00     12804\n",
      "\n"
     ]
    }
   ],
   "source": [
    "from sklearn.metrics import classification_report\n",
    "print(classification_report(y_test, y_pred))"
   ]
  },
  {
   "cell_type": "code",
   "execution_count": 22,
   "metadata": {},
   "outputs": [
    {
     "data": {
      "image/png": "[encoded data removed]",
      "text/plain": [
       "<Figure size 600x600 with 1 Axes>"
      ]
     },
     "metadata": {},
     "output_type": "display_data"
    }
   ],
   "source": [
    "from sklearn.ensemble import RandomForestClassifier\n",
    "from sklearn.metrics import  roc_curve, auc\n",
    "import matplotlib.pyplot as plt\n",
    "\n",
    "\n",
    "# Train RandomForest model\n",
    "\n",
    "# Predict probabilities for ROC curve\n",
    "y_test_proba = classifier.predict_proba(X_test)\n",
    "# Compute ROC curve and AUC score for each class\n",
    "plt.figure(figsize=(6, 6))\n",
    "for i, class_label in enumerate(classifier.classes_):\n",
    "    fpr, tpr, _ = roc_curve(y_test, y_test_proba[:, i], pos_label=class_label)\n",
    "    roc_auc = auc(fpr, tpr)\n",
    "    plt.plot(fpr, tpr, lw=2, label=f'Class {class_label} (AUC = {roc_auc:.2f})')\n",
    "\n",
    "# Plot ROC Curve\n",
    "plt.plot([0, 1], [0, 1], color='grey', linestyle='--', lw=1) \n",
    "plt.xlim([0.0, 1.0])\n",
    "plt.ylim([0.0, 1.05])\n",
    "plt.xlabel('False Positive Rate')\n",
    "plt.ylabel('True Positive Rate')\n",
    "plt.title('Receiver Operating Characteristic (ROC) Curve')\n",
    "plt.legend(loc='lower right')\n",
    "plt.show()"
   ]
  },
  {
   "cell_type": "code",
   "execution_count": null,
   "metadata": {},
   "outputs": [],
   "source": []
  },
  {
   "cell_type": "code",
   "execution_count": null,
   "metadata": {},
   "outputs": [],
   "source": []
  }
 ],
 "metadata": {
  "kernelspec": {
   "display_name": "pytorch_env",
   "language": "python",
   "name": "python3"
  },
  "language_info": {
   "codemirror_mode": {
    "name": "ipython",
    "version": 3
   },
   "file_extension": ".py",
   "mimetype": "text/x-python",
   "name": "python",
   "nbconvert_exporter": "python",
   "pygments_lexer": "ipython3",
   "version": "3.12.5"
  }
 },
 "nbformat": 4,
 "nbformat_minor": 2
}
