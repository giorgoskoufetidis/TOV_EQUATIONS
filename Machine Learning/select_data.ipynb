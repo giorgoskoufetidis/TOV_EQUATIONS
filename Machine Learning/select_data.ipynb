{
 "cells": [
  {
   "cell_type": "code",
   "execution_count": 120,
   "metadata": {},
   "outputs": [],
   "source": [
    "import pandas as pd \n",
    "import matplotlib.pyplot as plt \n",
    "import glob \n",
    "import os \n"
   ]
  },
  {
   "cell_type": "code",
   "execution_count": 121,
   "metadata": {},
   "outputs": [],
   "source": [
    "import pandas as pd\n",
    "import numpy as np\n",
    "import glob\n",
    "\n",
    "# Define the file path pattern\n",
    "file_pattern =\"TOV_results_*.csv\"\n",
    "# Get all matching files\n",
    "files = glob.glob(file_pattern)\n",
    "samples = 45\n",
    "# Dictionary to store results\n",
    "sampled_data = []\n",
    "\n",
    "for file in files:\n",
    "    df = pd.read_csv(file)\n",
    "    sampled_data.append(df.sample(samples))\n",
    "        \n",
    "    \n",
    "final_df = pd.concat(sampled_data)\n",
    "final_df.to_csv(f\"sampled_data_{samples}.csv\", index=False)\n",
    "    \n",
    "    \n",
    "    \n",
    "\n",
    "    \n",
    "    "
   ]
  },
  {
   "cell_type": "code",
   "execution_count": 122,
   "metadata": {},
   "outputs": [
    {
     "name": "stdout",
     "output_type": "stream",
     "text": [
      "2925\n"
     ]
    }
   ],
   "source": [
    "print(len(final_df))\n"
   ]
  },
  {
   "cell_type": "code",
   "execution_count": 123,
   "metadata": {},
   "outputs": [
    {
     "data": {
      "application/vnd.microsoft.datawrangler.viewer.v0+json": {
       "columns": [
        {
         "name": "index",
         "rawType": "int64",
         "type": "integer"
        },
        {
         "name": "Mass",
         "rawType": "float64",
         "type": "float"
        },
        {
         "name": "Radius",
         "rawType": "float64",
         "type": "float"
        },
        {
         "name": "Pressure",
         "rawType": "float64",
         "type": "float"
        },
        {
         "name": "Type",
         "rawType": "int64",
         "type": "integer"
        }
       ],
       "conversionMethod": "pd.DataFrame",
       "ref": "c878131c-8a4c-456c-b29e-ed168c5b246a",
       "rows": [
        [
         "0",
         "0.1349345896463396",
         "20.34100000000188",
         "1.5",
         "0"
        ],
        [
         "1",
         "0.1408673637168913",
         "19.41200000000074",
         "1.6",
         "0"
        ],
        [
         "2",
         "0.1467565863148981",
         "18.64899999999981",
         "1.7000000000000002",
         "0"
        ],
        [
         "3",
         "0.1525974812347557",
         "18.01199999999903",
         "1.8000000000000005",
         "0"
        ],
        [
         "4",
         "0.1583870395337328",
         "17.473999999998373",
         "1.9000000000000004",
         "0"
        ],
        [
         "5",
         "0.164123484828691",
         "17.01199999999781",
         "2.0000000000000004",
         "0"
        ],
        [
         "6",
         "0.1698059016462883",
         "16.613999999997322",
         "2.1000000000000005",
         "0"
        ],
        [
         "7",
         "0.1754339881377617",
         "16.266999999996898",
         "2.2000000000000006",
         "0"
        ],
        [
         "8",
         "0.1810078670824286",
         "15.961999999996593",
         "2.3000000000000007",
         "0"
        ],
        [
         "9",
         "0.1865279749923978",
         "15.691999999996742",
         "2.400000000000001",
         "0"
        ],
        [
         "10",
         "0.1919949523656709",
         "15.450999999996876",
         "2.500000000000001",
         "0"
        ],
        [
         "11",
         "0.1974095987583373",
         "15.236999999996996",
         "2.600000000000001",
         "0"
        ],
        [
         "12",
         "0.2027728060020563",
         "15.042999999997102",
         "2.700000000000001",
         "0"
        ],
        [
         "13",
         "0.2080855313521107",
         "14.8679999999972",
         "2.800000000000001",
         "0"
        ],
        [
         "14",
         "0.2133487744743737",
         "14.708999999997287",
         "2.900000000000001",
         "0"
        ],
        [
         "15",
         "0.2185635497629726",
         "14.564999999997369",
         "3.0000000000000013",
         "0"
        ],
        [
         "16",
         "0.2237308883461657",
         "14.43299999999744",
         "3.1000000000000014",
         "0"
        ],
        [
         "17",
         "0.2288518060327555",
         "14.311999999997507",
         "3.200000000000001",
         "0"
        ],
        [
         "18",
         "0.2339273142131418",
         "14.200999999997569",
         "3.3000000000000016",
         "0"
        ],
        [
         "19",
         "0.2389584069135732",
         "14.097999999997626",
         "3.4000000000000017",
         "0"
        ],
        [
         "20",
         "0.243946052417575",
         "14.002999999997678",
         "3.5000000000000018",
         "0"
        ],
        [
         "21",
         "0.2488912016958769",
         "13.914999999997727",
         "3.600000000000002",
         "0"
        ],
        [
         "22",
         "0.2537947788953941",
         "13.833999999997772",
         "3.700000000000002",
         "0"
        ],
        [
         "23",
         "0.2586576806919904",
         "13.757999999997814",
         "3.800000000000002",
         "0"
        ],
        [
         "24",
         "0.263480785864119",
         "13.686999999997854",
         "3.900000000000002",
         "0"
        ],
        [
         "25",
         "0.2682649327487233",
         "13.62099999999789",
         "4.000000000000002",
         "0"
        ],
        [
         "26",
         "0.2730109457769588",
         "13.559999999997924",
         "4.100000000000002",
         "0"
        ],
        [
         "27",
         "0.2777196144722968",
         "13.500999999997957",
         "4.200000000000003",
         "0"
        ],
        [
         "28",
         "0.2823917083520496",
         "13.446999999997988",
         "4.3000000000000025",
         "0"
        ],
        [
         "29",
         "0.2870279718965096",
         "13.395999999998017",
         "4.400000000000002",
         "0"
        ],
        [
         "30",
         "0.2916291251024937",
         "13.34799999999804",
         "4.500000000000003",
         "0"
        ],
        [
         "31",
         "0.2961958633483122",
         "13.302999999998066",
         "4.600000000000003",
         "0"
        ],
        [
         "32",
         "0.3007288596937389",
         "13.25999999999809",
         "4.700000000000003",
         "0"
        ],
        [
         "33",
         "0.3052287639634352",
         "13.219999999998112",
         "4.8000000000000025",
         "0"
        ],
        [
         "34",
         "0.3096962116387697",
         "13.181999999998132",
         "4.900000000000003",
         "0"
        ],
        [
         "35",
         "0.3141318101627205",
         "13.145999999998152",
         "5.0",
         "0"
        ],
        [
         "36",
         "0.3568575295543597",
         "12.870999999998306",
         "6.0",
         "0"
        ],
        [
         "37",
         "0.3969471449395725",
         "12.6989999999984",
         "7.0",
         "0"
        ],
        [
         "38",
         "0.4347776848336794",
         "12.585999999998464",
         "8.0",
         "0"
        ],
        [
         "39",
         "0.4706393106094552",
         "12.508999999998506",
         "9.0",
         "0"
        ],
        [
         "40",
         "0.5047614736867063",
         "12.454999999998536",
         "10.0",
         "0"
        ],
        [
         "41",
         "0.5373298164754419",
         "12.416999999998556",
         "11.0",
         "0"
        ],
        [
         "42",
         "0.5684974428685766",
         "12.389999999998572",
         "12.0",
         "0"
        ],
        [
         "43",
         "0.5983926645257969",
         "12.369999999998583",
         "13.0",
         "0"
        ],
        [
         "44",
         "0.6271244961971398",
         "12.355999999998591",
         "14.0",
         "0"
        ],
        [
         "45",
         "0.6547866427505613",
         "12.345999999998597",
         "15.0",
         "0"
        ],
        [
         "46",
         "0.6814604648496287",
         "12.3389999999986",
         "16.0",
         "0"
        ],
        [
         "47",
         "0.7072172400975021",
         "12.333999999998603",
         "17.0",
         "0"
        ],
        [
         "48",
         "0.7321198779022934",
         "12.330999999998603",
         "18.0",
         "0"
        ],
        [
         "49",
         "0.756224303671031",
         "12.329999999998606",
         "19.0",
         "0"
        ]
       ],
       "shape": {
        "columns": 4,
        "rows": 1231
       }
      },
      "text/html": [
       "<div>\n",
       "<style scoped>\n",
       "    .dataframe tbody tr th:only-of-type {\n",
       "        vertical-align: middle;\n",
       "    }\n",
       "\n",
       "    .dataframe tbody tr th {\n",
       "        vertical-align: top;\n",
       "    }\n",
       "\n",
       "    .dataframe thead th {\n",
       "        text-align: right;\n",
       "    }\n",
       "</style>\n",
       "<table border=\"1\" class=\"dataframe\">\n",
       "  <thead>\n",
       "    <tr style=\"text-align: right;\">\n",
       "      <th></th>\n",
       "      <th>Mass</th>\n",
       "      <th>Radius</th>\n",
       "      <th>Pressure</th>\n",
       "      <th>Type</th>\n",
       "    </tr>\n",
       "  </thead>\n",
       "  <tbody>\n",
       "    <tr>\n",
       "      <th>0</th>\n",
       "      <td>0.134935</td>\n",
       "      <td>20.341000</td>\n",
       "      <td>1.5</td>\n",
       "      <td>0</td>\n",
       "    </tr>\n",
       "    <tr>\n",
       "      <th>1</th>\n",
       "      <td>0.140867</td>\n",
       "      <td>19.412000</td>\n",
       "      <td>1.6</td>\n",
       "      <td>0</td>\n",
       "    </tr>\n",
       "    <tr>\n",
       "      <th>2</th>\n",
       "      <td>0.146757</td>\n",
       "      <td>18.649000</td>\n",
       "      <td>1.7</td>\n",
       "      <td>0</td>\n",
       "    </tr>\n",
       "    <tr>\n",
       "      <th>3</th>\n",
       "      <td>0.152597</td>\n",
       "      <td>18.012000</td>\n",
       "      <td>1.8</td>\n",
       "      <td>0</td>\n",
       "    </tr>\n",
       "    <tr>\n",
       "      <th>4</th>\n",
       "      <td>0.158387</td>\n",
       "      <td>17.474000</td>\n",
       "      <td>1.9</td>\n",
       "      <td>0</td>\n",
       "    </tr>\n",
       "    <tr>\n",
       "      <th>...</th>\n",
       "      <td>...</td>\n",
       "      <td>...</td>\n",
       "      <td>...</td>\n",
       "      <td>...</td>\n",
       "    </tr>\n",
       "    <tr>\n",
       "      <th>1226</th>\n",
       "      <td>2.378208</td>\n",
       "      <td>10.540000</td>\n",
       "      <td>1196.0</td>\n",
       "      <td>0</td>\n",
       "    </tr>\n",
       "    <tr>\n",
       "      <th>1227</th>\n",
       "      <td>2.378146</td>\n",
       "      <td>10.539000</td>\n",
       "      <td>1197.0</td>\n",
       "      <td>0</td>\n",
       "    </tr>\n",
       "    <tr>\n",
       "      <th>1228</th>\n",
       "      <td>2.378083</td>\n",
       "      <td>10.538584</td>\n",
       "      <td>1198.0</td>\n",
       "      <td>0</td>\n",
       "    </tr>\n",
       "    <tr>\n",
       "      <th>1229</th>\n",
       "      <td>2.378020</td>\n",
       "      <td>10.537603</td>\n",
       "      <td>1199.0</td>\n",
       "      <td>0</td>\n",
       "    </tr>\n",
       "    <tr>\n",
       "      <th>1230</th>\n",
       "      <td>2.377957</td>\n",
       "      <td>10.536924</td>\n",
       "      <td>1200.0</td>\n",
       "      <td>0</td>\n",
       "    </tr>\n",
       "  </tbody>\n",
       "</table>\n",
       "<p>1231 rows × 4 columns</p>\n",
       "</div>"
      ],
      "text/plain": [
       "          Mass     Radius  Pressure  Type\n",
       "0     0.134935  20.341000       1.5     0\n",
       "1     0.140867  19.412000       1.6     0\n",
       "2     0.146757  18.649000       1.7     0\n",
       "3     0.152597  18.012000       1.8     0\n",
       "4     0.158387  17.474000       1.9     0\n",
       "...        ...        ...       ...   ...\n",
       "1226  2.378208  10.540000    1196.0     0\n",
       "1227  2.378146  10.539000    1197.0     0\n",
       "1228  2.378083  10.538584    1198.0     0\n",
       "1229  2.378020  10.537603    1199.0     0\n",
       "1230  2.377957  10.536924    1200.0     0\n",
       "\n",
       "[1231 rows x 4 columns]"
      ]
     },
     "execution_count": 123,
     "metadata": {},
     "output_type": "execute_result"
    }
   ],
   "source": [
    "\n",
    "df = pd.read_csv(\"TOV_results_APR_1.csv\")\n",
    "df\n"
   ]
  },
  {
   "cell_type": "code",
   "execution_count": 124,
   "metadata": {},
   "outputs": [
    {
     "data": {
      "text/plain": [
       "Text(0, 0.5, 'Mass (solar mass)')"
      ]
     },
     "execution_count": 124,
     "metadata": {},
     "output_type": "execute_result"
    },
    {
     "data": {
      "image/png": "[encoded data removed]",
      "text/plain": [
       "<Figure size 640x480 with 1 Axes>"
      ]
     },
     "metadata": {},
     "output_type": "display_data"
    }
   ],
   "source": [
    "samples = df.sample(15)\n",
    "\n",
    "plt.plot(df['Radius'], df['Mass'], '-', label=\"All data\")\n",
    "plt.plot(samples[\"Radius\"], samples[\"Mass\"],\".\" )\n",
    "plt.xlabel(\"Radius (km)\")\n",
    "plt.ylabel(\"Mass (solar mass)\") "
   ]
  },
  {
   "cell_type": "code",
   "execution_count": null,
   "metadata": {},
   "outputs": [],
   "source": []
  }
 ],
 "metadata": {
  "kernelspec": {
   "display_name": "pytorch_env",
   "language": "python",
   "name": "python3"
  },
  "language_info": {
   "codemirror_mode": {
    "name": "ipython",
    "version": 3
   },
   "file_extension": ".py",
   "mimetype": "text/x-python",
   "name": "python",
   "nbconvert_exporter": "python",
   "pygments_lexer": "ipython3",
   "version": "3.12.5"
  }
 },
 "nbformat": 4,
 "nbformat_minor": 2
}
